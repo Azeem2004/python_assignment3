{
 "cells": [
  {
   "cell_type": "code",
   "execution_count": 9,
   "id": "1c9701cf",
   "metadata": {},
   "outputs": [
    {
     "name": "stdout",
     "output_type": "stream",
     "text": [
      "twinkle, twinkle, little star,\n",
      "        how i wonder what you are!\n",
      "             up above the world so high,\n",
      "             like a diamond in he sky\n",
      " twinkle twinle little star\n",
      " how i wonder what you are\n"
     ]
    }
   ],
   "source": [
    "#1\n",
    "rhyme = (\"twinkle, twinkle, little star,\\n        how i wonder what you are!\\n             up above the world so high,\\n             like a diamond in he sky\\n twinkle twinle little star\\n how i wonder what you are\")\n",
    "print(rhyme);"
   ]
  },
  {
   "cell_type": "code",
   "execution_count": 10,
   "id": "d44e2881",
   "metadata": {},
   "outputs": [
    {
     "name": "stdout",
     "output_type": "stream",
     "text": [
      "python version\n",
      "3.8.8 (default, Apr 13 2021, 15:08:03) [MSC v.1916 64 bit (AMD64)]\n",
      "python info\n",
      "sys.version_info(major=3, minor=8, micro=8, releaselevel='final', serial=0)\n"
     ]
    }
   ],
   "source": [
    "#2\n",
    "import sys\n",
    "print(\"python version\");\n",
    "print(sys.version);\n",
    "print(\"python info\");\n",
    "print(sys.version_info);"
   ]
  },
  {
   "cell_type": "code",
   "execution_count": 15,
   "id": "86fbaf88",
   "metadata": {},
   "outputs": [
    {
     "name": "stdout",
     "output_type": "stream",
     "text": [
      "datetime is:\n",
      "21-10-23  08:22:12\n"
     ]
    }
   ],
   "source": [
    "#3\n",
    "import datetime\n",
    "now = datetime.datetime.now();\n",
    "print(\"datetime is:\");\n",
    "print(now.strftime (\"%y-%m-%d  %H:%M:%S\"))\n"
   ]
  },
  {
   "cell_type": "code",
   "execution_count": 17,
   "id": "7b480c83",
   "metadata": {},
   "outputs": [
    {
     "name": "stdout",
     "output_type": "stream",
     "text": [
      "enter the radius of the circle62\n",
      "area of a circle 12076.282160399165\n"
     ]
    }
   ],
   "source": [
    "#4\n",
    "import math\n",
    "radius = float(input(\"enter the radius of the circle\"));\n",
    "area = math.pi*radius*radius;\n",
    "print(\"area of a circle\",area)"
   ]
  },
  {
   "cell_type": "code",
   "execution_count": 18,
   "id": "58e8d530",
   "metadata": {},
   "outputs": [
    {
     "name": "stdout",
     "output_type": "stream",
     "text": [
      "enter your first name:syed\n",
      "enter your last name:azeem\n",
      "hello: azeem syed\n"
     ]
    }
   ],
   "source": [
    "#5\n",
    "firstname = input(\"enter your first name:\");\n",
    "lastname = input(\"enter your last name:\");\n",
    "print(\"hello:\"+ \" \"+lastname+\" \"+firstname)"
   ]
  },
  {
   "cell_type": "code",
   "execution_count": 22,
   "id": "864e19a1",
   "metadata": {},
   "outputs": [
    {
     "name": "stdout",
     "output_type": "stream",
     "text": [
      "enter num1:2\n",
      "enter num2:4\n",
      "2 + 4 = 6\n"
     ]
    }
   ],
   "source": [
    "#6\n",
    "num1 = int(input(\"enter num1:\"));\n",
    "num2 = int(input(\"enter num2:\"));\n",
    "result = num1 + num2;\n",
    "print(num1, \"+\",num2, \"=\",result);"
   ]
  },
  {
   "cell_type": "code",
   "execution_count": 2,
   "id": "e40bef3a",
   "metadata": {},
   "outputs": [
    {
     "name": "stdout",
     "output_type": "stream",
     "text": [
      "enter marks of english:45\n",
      "enter marks of urdu :65\n",
      "enter marks of islamiat :85\n",
      "enter marks of physics :95\n",
      "enter marks of maths :34\n",
      "total marks 324\n",
      "percentage 64.8\n",
      "grade B\n"
     ]
    }
   ],
   "source": [
    "#7\n",
    "english = int(input(\"enter marks of english:\"));\n",
    "urdu = int(input(\"enter marks of urdu :\"));\n",
    "islamiat = int(input(\"enter marks of islamiat :\" ));\n",
    "physics = int(input(\"enter marks of physics :\"));\n",
    "maths = int(input(\"enter marks of maths :\"));\n",
    "\n",
    "total = english+urdu+islamiat+physics+maths;\n",
    "percentage = total/5;\n",
    "\n",
    "if percentage>=80:\n",
    "    grade ='A+'\n",
    "elif percentage>=70:\n",
    "    grade ='A'\n",
    "elif percentage>=60:\n",
    "    grade ='B'\n",
    "elif percentage>=50:\n",
    "    grade ='C'\n",
    "elif percentage>=40:\n",
    "    grade ='D'\n",
    "elif percentage>=33:\n",
    "    grade ='E'\n",
    "else:grade =\"fail\"\n",
    "        \n",
    "print(\"total marks\", total);\n",
    "print(\"percentage\", percentage);\n",
    "print(\"grade\",grade);        "
   ]
  },
  {
   "cell_type": "code",
   "execution_count": 10,
   "id": "cd4268b7",
   "metadata": {},
   "outputs": [
    {
     "name": "stdout",
     "output_type": "stream",
     "text": [
      "enter an int number2\n",
      "2 even number:\n"
     ]
    }
   ],
   "source": [
    "#8\n",
    "num1 = int(input(\"enter an int number\"));\n",
    "remainder = num1 % 2;\n",
    "if (remainder == 0):\n",
    "    print(num1,\"even number:\")\n",
    "else:\n",
    "    print(num1,\"odd\")"
   ]
  },
  {
   "cell_type": "code",
   "execution_count": 12,
   "id": "09b07162",
   "metadata": {},
   "outputs": [
    {
     "name": "stdout",
     "output_type": "stream",
     "text": [
      "['azeem', 'ali', 'ashir', '12', 12]\n",
      "length of list is: 5\n"
     ]
    }
   ],
   "source": [
    "#9\n",
    "list1 = [\"azeem\", \"ali\", \"ashir\", \"12\", 12]\n",
    "\n",
    "print (list1);\n",
    "print (\"length of list is:\",len(list1))"
   ]
  },
  {
   "cell_type": "code",
   "execution_count": 13,
   "id": "5719a275",
   "metadata": {},
   "outputs": [
    {
     "name": "stdout",
     "output_type": "stream",
     "text": [
      "125\n"
     ]
    }
   ],
   "source": [
    "#10\n",
    "list2 = [12,13,55,45];\n",
    "total = sum(list2);\n",
    "print(total);"
   ]
  },
  {
   "cell_type": "code",
   "execution_count": 14,
   "id": "4e72b0a3",
   "metadata": {},
   "outputs": [
    {
     "name": "stdout",
     "output_type": "stream",
     "text": [
      "largest number of list is: 300\n"
     ]
    }
   ],
   "source": [
    "#11\n",
    "list3 = [100,200,300];\n",
    "print(\"largest number of list is:\",max(list3));"
   ]
  },
  {
   "cell_type": "code",
   "execution_count": 15,
   "id": "6a9b3d43",
   "metadata": {},
   "outputs": [
    {
     "name": "stdout",
     "output_type": "stream",
     "text": [
      "[1]\n",
      "[1, 1]\n",
      "[1, 1, 2]\n",
      "[1, 1, 2, 3]\n"
     ]
    }
   ],
   "source": [
    "#12\n",
    "a=[1,1,2,3,5,8,13,21,34,55,89];\n",
    "lst=[]\n",
    "for i in a:\n",
    "    if i<5:\n",
    "        lst.append(i);\n",
    "        print(lst);"
   ]
  },
  {
   "cell_type": "code",
   "execution_count": null,
   "id": "9df62270",
   "metadata": {},
   "outputs": [],
   "source": []
  }
 ],
 "metadata": {
  "kernelspec": {
   "display_name": "Python 3",
   "language": "python",
   "name": "python3"
  },
  "language_info": {
   "codemirror_mode": {
    "name": "ipython",
    "version": 3
   },
   "file_extension": ".py",
   "mimetype": "text/x-python",
   "name": "python",
   "nbconvert_exporter": "python",
   "pygments_lexer": "ipython3",
   "version": "3.8.8"
  }
 },
 "nbformat": 4,
 "nbformat_minor": 5
}
